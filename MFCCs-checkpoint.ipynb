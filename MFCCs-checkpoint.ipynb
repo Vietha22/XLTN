{
 "cells": [
  {
   "cell_type": "code",
   "execution_count": 1,
   "id": "1987e6ef-2bd4-4195-92fc-1ab35b678eff",
   "metadata": {},
   "outputs": [
    {
     "name": "stderr",
     "output_type": "stream",
     "text": [
      "C:\\Users\\VIET HA\\anaconda3\\lib\\site-packages\\pydub\\utils.py:170: RuntimeWarning: Couldn't find ffmpeg or avconv - defaulting to ffmpeg, but may not work\n",
      "  warn(\"Couldn't find ffmpeg or avconv - defaulting to ffmpeg, but may not work\", RuntimeWarning)\n"
     ]
    }
   ],
   "source": [
    "import librosa\n",
    "import matplotlib.pyplot as plt\n",
    "import re\n",
    "import os\n",
    "import numpy as np\n",
    "import math\n",
    "from scipy.io import wavfile\n",
    "from pydub import AudioSegment"
   ]
  },
  {
   "cell_type": "code",
   "execution_count": 12,
   "id": "ad2b4ba9-e915-43e3-bea4-ce76639f66ee",
   "metadata": {},
   "outputs": [],
   "source": [
    "def match_signal_file_with_label_track_file():\n",
    "    signal_and_label_track_pairs = list()\n",
    "    for _file in os.listdir(\"data_speech/\"):\n",
    "        if _file.endswith(\".wav\"):\n",
    "            signal_and_label_track_pairs.append({\"signal_path\": _file, \"label\": os.path.splitext(_file)[0] + \".txt\"})\n",
    "    return signal_and_label_track_pairs\n",
    "\n",
    "\n",
    "def get_signal_from_file(signal_file_name):\n",
    "    signal, fs = librosa.load(signal_file_name)\n",
    "    return signal, fs\n",
    "\n",
    "\n",
    "def show_signal(signal, label):\n",
    "    plt.plot(signal)\n",
    "    plt.xlabel(label)\n",
    "    plt.show()\n",
    "\n",
    "\n",
    "# Lay tung khau lenh don le trong file label\n",
    "\n",
    "def parse_track_file(label_track_file_name):\n",
    "    label_track_file = open(label_track_file_name)\n",
    "    label_track_file_line = label_track_file.readlines()\n",
    "    label_track_list = list();\n",
    "    for line in label_track_file_line:\n",
    "        label_item = re.split(r'\\s+', line);\n",
    "        label_track_list.append({\"timestamp_start\": float(label_item[0].replace(\",\", \".\")) * 1000,\n",
    "                                 \"timestamp_end\": float(label_item[1].replace(\",\", \".\")) * 1000,\n",
    "                                 \"label\": label_item[2]})\n",
    "    return label_track_list  # [\"timestamp_start\":0, \"timestamp_end\": 1234, \"label\": \"len\", \"label_id\"=}]\n",
    "\n",
    "\n",
    "# Ham tach file thanh cac file khau lenh don le\n",
    "\n",
    "def audio_segment(signal_file_name, label_track_file):\n",
    "    dataset = list()\n",
    "    file_number = (os.path.splitext(signal_file_name))[0][12:]\n",
    "    label_track_list = parse_track_file(label_track_file)\n",
    "    i = 0\n",
    "    for label_track in label_track_list:\n",
    "        try:\n",
    "            newAudio = AudioSegment.from_wav(signal_file_name);\n",
    "            newAudio = newAudio[label_track[\"timestamp_start\"]:label_track[\"timestamp_end\"]]\n",
    "            signal = \"data_output/\" + label_track[\"label\"] + \"/\" + file_number + '_' + label_track[\"label\"] + \"_\" + str(i) + \".wav\"\n",
    "            newAudio.export(signal, format=\"wav\")\n",
    "            dataset.append({\"signal_path\": signal, \"label\": label_track[\"label\"]})\n",
    "            i += 1\n",
    "        except FileNotFoundError:\n",
    "            print(\"Not able to segment %s file. File not found error\" % signal)\n",
    "    return dataset"
   ]
  },
  {
   "cell_type": "code",
   "execution_count": 15,
   "id": "70148303-24c2-45cd-ada2-48f23c401cee",
   "metadata": {},
   "outputs": [
    {
     "name": "stdout",
     "output_type": "stream",
     "text": [
      "It was created 1159 new .wav files, where each signal represents one word.\n"
     ]
    }
   ],
   "source": [
    "data = list()\n",
    "for pair in match_signal_file_with_label_track_file():\n",
    "    data += audio_segment(\"data_speech/\" + pair['signal_path'], \"data_speech/\" + pair['label'])\n",
    "\n",
    "print(\"It was created %s new .wav files, where each signal represents one word.\" % len(data))\n",
    "\n",
    "for d in data:\n",
    "    signal, fs = get_signal_from_file(d['signal_path'])\n",
    "    d[\"fs\"] = fs\n",
    "    d[\"signal\"] = signal"
   ]
  },
  {
   "cell_type": "code",
   "execution_count": 16,
   "id": "4ff0164d-e9d2-4e66-a195-80679b0b0fe4",
   "metadata": {},
   "outputs": [],
   "source": [
    "# Ham trich xuat dac trung mfccs\n",
    "\n",
    "def get_MFCC(signal, sample_rate):\n",
    "    mfccs = librosa.feature.mfcc(y=signal, n_mfcc=13, sr=sample_rate)\n",
    "    delta_mfccs = librosa.feature.delta(mfccs)\n",
    "    delta_delta = librosa.feature.delta(mfccs, order=2)\n",
    "    mfccs_features = np.concatenate((mfccs, delta_mfccs, delta_delta))\n",
    "    return mfccs_features"
   ]
  },
  {
   "cell_type": "code",
   "execution_count": 17,
   "id": "477596eb-2002-4300-b78a-2c574ed2bc53",
   "metadata": {},
   "outputs": [
    {
     "name": "stdout",
     "output_type": "stream",
     "text": [
      "Shape of feature:  (39, 12)\n"
     ]
    }
   ],
   "source": [
    "# Test xem da du 39 feature chua\n",
    "\n",
    "mfcc_features = get_MFCC(data[0]['signal'], data[0]['fs'])\n",
    "print('Shape of feature: ', mfcc_features.shape)"
   ]
  },
  {
   "cell_type": "code",
   "execution_count": 21,
   "id": "a8445e1e-829e-4b90-a732-72dda9e98b1b",
   "metadata": {},
   "outputs": [
    {
     "ename": "ParameterError",
     "evalue": "when mode='interp', width=9 cannot exceed data.shape[axis]=6",
     "output_type": "error",
     "traceback": [
      "\u001b[1;31m---------------------------------------------------------------------------\u001b[0m",
      "\u001b[1;31mParameterError\u001b[0m                            Traceback (most recent call last)",
      "\u001b[1;32m<ipython-input-21-afa5e2f5ca2c>\u001b[0m in \u001b[0;36m<module>\u001b[1;34m\u001b[0m\n\u001b[0;32m      4\u001b[0m \u001b[0mdataset\u001b[0m \u001b[1;33m=\u001b[0m \u001b[0mlist\u001b[0m\u001b[1;33m(\u001b[0m\u001b[1;33m)\u001b[0m\u001b[1;33m\u001b[0m\u001b[1;33m\u001b[0m\u001b[0m\n\u001b[0;32m      5\u001b[0m \u001b[1;32mfor\u001b[0m \u001b[0md\u001b[0m \u001b[1;32min\u001b[0m \u001b[0mdata\u001b[0m\u001b[1;33m:\u001b[0m\u001b[1;33m\u001b[0m\u001b[1;33m\u001b[0m\u001b[0m\n\u001b[1;32m----> 6\u001b[1;33m     \u001b[0mdataset_features\u001b[0m \u001b[1;33m=\u001b[0m \u001b[0mget_MFCC\u001b[0m\u001b[1;33m(\u001b[0m\u001b[0md\u001b[0m\u001b[1;33m[\u001b[0m\u001b[1;34m\"signal\"\u001b[0m\u001b[1;33m]\u001b[0m\u001b[1;33m,\u001b[0m \u001b[0md\u001b[0m\u001b[1;33m[\u001b[0m\u001b[1;34m\"fs\"\u001b[0m\u001b[1;33m]\u001b[0m\u001b[1;33m)\u001b[0m\u001b[1;33m\u001b[0m\u001b[1;33m\u001b[0m\u001b[0m\n\u001b[0m\u001b[0;32m      7\u001b[0m     \u001b[0mdataset\u001b[0m\u001b[1;33m.\u001b[0m\u001b[0mappend\u001b[0m\u001b[1;33m(\u001b[0m\u001b[1;33m[\u001b[0m\u001b[0mdataset_features\u001b[0m\u001b[1;33m,\u001b[0m \u001b[0md\u001b[0m\u001b[1;33m[\u001b[0m\u001b[1;34m'label'\u001b[0m\u001b[1;33m]\u001b[0m\u001b[1;33m]\u001b[0m\u001b[1;33m)\u001b[0m\u001b[1;33m\u001b[0m\u001b[1;33m\u001b[0m\u001b[0m\n",
      "\u001b[1;32m<ipython-input-16-e35cdfc238c2>\u001b[0m in \u001b[0;36mget_MFCC\u001b[1;34m(signal, sample_rate)\u001b[0m\n\u001b[0;32m      3\u001b[0m \u001b[1;32mdef\u001b[0m \u001b[0mget_MFCC\u001b[0m\u001b[1;33m(\u001b[0m\u001b[0msignal\u001b[0m\u001b[1;33m,\u001b[0m \u001b[0msample_rate\u001b[0m\u001b[1;33m)\u001b[0m\u001b[1;33m:\u001b[0m\u001b[1;33m\u001b[0m\u001b[1;33m\u001b[0m\u001b[0m\n\u001b[0;32m      4\u001b[0m     \u001b[0mmfccs\u001b[0m \u001b[1;33m=\u001b[0m \u001b[0mlibrosa\u001b[0m\u001b[1;33m.\u001b[0m\u001b[0mfeature\u001b[0m\u001b[1;33m.\u001b[0m\u001b[0mmfcc\u001b[0m\u001b[1;33m(\u001b[0m\u001b[0my\u001b[0m\u001b[1;33m=\u001b[0m\u001b[0msignal\u001b[0m\u001b[1;33m,\u001b[0m \u001b[0mn_mfcc\u001b[0m\u001b[1;33m=\u001b[0m\u001b[1;36m13\u001b[0m\u001b[1;33m,\u001b[0m \u001b[0msr\u001b[0m\u001b[1;33m=\u001b[0m\u001b[0msample_rate\u001b[0m\u001b[1;33m)\u001b[0m\u001b[1;33m\u001b[0m\u001b[1;33m\u001b[0m\u001b[0m\n\u001b[1;32m----> 5\u001b[1;33m     \u001b[0mdelta_mfccs\u001b[0m \u001b[1;33m=\u001b[0m \u001b[0mlibrosa\u001b[0m\u001b[1;33m.\u001b[0m\u001b[0mfeature\u001b[0m\u001b[1;33m.\u001b[0m\u001b[0mdelta\u001b[0m\u001b[1;33m(\u001b[0m\u001b[0mmfccs\u001b[0m\u001b[1;33m)\u001b[0m\u001b[1;33m\u001b[0m\u001b[1;33m\u001b[0m\u001b[0m\n\u001b[0m\u001b[0;32m      6\u001b[0m     \u001b[0mdelta_delta\u001b[0m \u001b[1;33m=\u001b[0m \u001b[0mlibrosa\u001b[0m\u001b[1;33m.\u001b[0m\u001b[0mfeature\u001b[0m\u001b[1;33m.\u001b[0m\u001b[0mdelta\u001b[0m\u001b[1;33m(\u001b[0m\u001b[0mmfccs\u001b[0m\u001b[1;33m,\u001b[0m \u001b[0morder\u001b[0m\u001b[1;33m=\u001b[0m\u001b[1;36m2\u001b[0m\u001b[1;33m)\u001b[0m\u001b[1;33m\u001b[0m\u001b[1;33m\u001b[0m\u001b[0m\n\u001b[0;32m      7\u001b[0m     \u001b[0mmfccs_features\u001b[0m \u001b[1;33m=\u001b[0m \u001b[0mnp\u001b[0m\u001b[1;33m.\u001b[0m\u001b[0mconcatenate\u001b[0m\u001b[1;33m(\u001b[0m\u001b[1;33m(\u001b[0m\u001b[0mmfccs\u001b[0m\u001b[1;33m,\u001b[0m \u001b[0mdelta_mfccs\u001b[0m\u001b[1;33m,\u001b[0m \u001b[0mdelta_delta\u001b[0m\u001b[1;33m)\u001b[0m\u001b[1;33m)\u001b[0m\u001b[1;33m\u001b[0m\u001b[1;33m\u001b[0m\u001b[0m\n",
      "\u001b[1;32m~\\anaconda3\\lib\\site-packages\\librosa\\util\\decorators.py\u001b[0m in \u001b[0;36minner_f\u001b[1;34m(*args, **kwargs)\u001b[0m\n\u001b[0;32m     86\u001b[0m             \u001b[0mextra_args\u001b[0m \u001b[1;33m=\u001b[0m \u001b[0mlen\u001b[0m\u001b[1;33m(\u001b[0m\u001b[0margs\u001b[0m\u001b[1;33m)\u001b[0m \u001b[1;33m-\u001b[0m \u001b[0mlen\u001b[0m\u001b[1;33m(\u001b[0m\u001b[0mall_args\u001b[0m\u001b[1;33m)\u001b[0m\u001b[1;33m\u001b[0m\u001b[1;33m\u001b[0m\u001b[0m\n\u001b[0;32m     87\u001b[0m             \u001b[1;32mif\u001b[0m \u001b[0mextra_args\u001b[0m \u001b[1;33m<=\u001b[0m \u001b[1;36m0\u001b[0m\u001b[1;33m:\u001b[0m\u001b[1;33m\u001b[0m\u001b[1;33m\u001b[0m\u001b[0m\n\u001b[1;32m---> 88\u001b[1;33m                 \u001b[1;32mreturn\u001b[0m \u001b[0mf\u001b[0m\u001b[1;33m(\u001b[0m\u001b[1;33m*\u001b[0m\u001b[0margs\u001b[0m\u001b[1;33m,\u001b[0m \u001b[1;33m**\u001b[0m\u001b[0mkwargs\u001b[0m\u001b[1;33m)\u001b[0m\u001b[1;33m\u001b[0m\u001b[1;33m\u001b[0m\u001b[0m\n\u001b[0m\u001b[0;32m     89\u001b[0m \u001b[1;33m\u001b[0m\u001b[0m\n\u001b[0;32m     90\u001b[0m             \u001b[1;31m# extra_args > 0\u001b[0m\u001b[1;33m\u001b[0m\u001b[1;33m\u001b[0m\u001b[0m\n",
      "\u001b[1;32m~\\anaconda3\\lib\\site-packages\\librosa\\feature\\utils.py\u001b[0m in \u001b[0;36mdelta\u001b[1;34m(data, width, order, axis, mode, **kwargs)\u001b[0m\n\u001b[0;32m    101\u001b[0m \u001b[1;33m\u001b[0m\u001b[0m\n\u001b[0;32m    102\u001b[0m     \u001b[1;32mif\u001b[0m \u001b[0mmode\u001b[0m \u001b[1;33m==\u001b[0m \u001b[1;34m\"interp\"\u001b[0m \u001b[1;32mand\u001b[0m \u001b[0mwidth\u001b[0m \u001b[1;33m>\u001b[0m \u001b[0mdata\u001b[0m\u001b[1;33m.\u001b[0m\u001b[0mshape\u001b[0m\u001b[1;33m[\u001b[0m\u001b[0maxis\u001b[0m\u001b[1;33m]\u001b[0m\u001b[1;33m:\u001b[0m\u001b[1;33m\u001b[0m\u001b[1;33m\u001b[0m\u001b[0m\n\u001b[1;32m--> 103\u001b[1;33m         raise ParameterError(\n\u001b[0m\u001b[0;32m    104\u001b[0m             \u001b[1;34m\"when mode='interp', width={} \"\u001b[0m\u001b[1;33m\u001b[0m\u001b[1;33m\u001b[0m\u001b[0m\n\u001b[0;32m    105\u001b[0m             \u001b[1;34m\"cannot exceed data.shape[axis]={}\"\u001b[0m\u001b[1;33m.\u001b[0m\u001b[0mformat\u001b[0m\u001b[1;33m(\u001b[0m\u001b[0mwidth\u001b[0m\u001b[1;33m,\u001b[0m \u001b[0mdata\u001b[0m\u001b[1;33m.\u001b[0m\u001b[0mshape\u001b[0m\u001b[1;33m[\u001b[0m\u001b[0maxis\u001b[0m\u001b[1;33m]\u001b[0m\u001b[1;33m)\u001b[0m\u001b[1;33m\u001b[0m\u001b[1;33m\u001b[0m\u001b[0m\n",
      "\u001b[1;31mParameterError\u001b[0m: when mode='interp', width=9 cannot exceed data.shape[axis]=6"
     ]
    }
   ],
   "source": [
    "# lay dac trung cua tat ca cac khau lenh don le\n",
    "files = [file for file in os.listdir('data_output')]\n",
    "# print(files[1])\n",
    "dataset = list()\n",
    "for d in data:\n",
    "    dataset_features = get_MFCC(d[\"signal\"], d[\"fs\"])\n",
    "    dataset.append([dataset_features, d['label']])"
   ]
  },
  {
   "cell_type": "code",
   "execution_count": 22,
   "id": "fbdba0f1-3c80-4071-b01e-6f0657978a27",
   "metadata": {},
   "outputs": [
    {
     "name": "stdout",
     "output_type": "stream",
     "text": [
      "shape:  (39, 14)\n",
      "label:  phai\n"
     ]
    }
   ],
   "source": [
    "print('shape: ', dataset[3][0].shape)\n",
    "print('label: ', dataset[3][1])"
   ]
  },
  {
   "cell_type": "code",
   "execution_count": 23,
   "id": "7f0fd02a-8718-471a-b898-ad22065d0e30",
   "metadata": {},
   "outputs": [
    {
     "name": "stdout",
     "output_type": "stream",
     "text": [
      "Example of MFFC result image\n"
     ]
    },
    {
     "data": {
      "image/png": "[encoded data removed]",
      "text/plain": [
       "<Figure size 432x288 with 1 Axes>"
      ]
     },
     "metadata": {
      "needs_background": "light"
     },
     "output_type": "display_data"
    }
   ],
   "source": [
    "print(\"Example of MFFC result image\")\n",
    "mffc_example = dataset[10][0]\n",
    "plt.xlabel(\"frames\")\n",
    "plt.ylabel(\"frequency\")\n",
    "plt.title(dataset[10][1])\n",
    "plt.imshow(mffc_example.T)\n",
    "plt.show()"
   ]
  },
  {
   "cell_type": "code",
   "execution_count": null,
   "id": "eb10540a-6200-45d1-b7a5-63f38df0f529",
   "metadata": {},
   "outputs": [],
   "source": []
  }
 ],
 "metadata": {
  "kernelspec": {
   "display_name": "Python 3 (ipykernel)",
   "language": "python",
   "name": "python3"
  },
  "language_info": {
   "codemirror_mode": {
    "name": "ipython",
    "version": 3
   },
   "file_extension": ".py",
   "mimetype": "text/x-python",
   "name": "python",
   "nbconvert_exporter": "python",
   "pygments_lexer": "ipython3",
   "version": "3.9.7"
  }
 },
 "nbformat": 4,
 "nbformat_minor": 5
}
